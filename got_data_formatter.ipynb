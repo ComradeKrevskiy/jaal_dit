{
 "metadata": {
  "language_info": {
   "codemirror_mode": {
    "name": "ipython",
    "version": 3
   },
   "file_extension": ".py",
   "mimetype": "text/x-python",
   "name": "python",
   "nbconvert_exporter": "python",
   "pygments_lexer": "ipython3",
   "version": "3.7.3-final"
  },
  "orig_nbformat": 2,
  "kernelspec": {
   "name": "python3",
   "display_name": "Python 3",
   "language": "python"
  }
 },
 "nbformat": 4,
 "nbformat_minor": 2,
 "cells": [
  {
   "cell_type": "code",
   "execution_count": 5,
   "metadata": {},
   "outputs": [],
   "source": [
    "import json\n",
    "import pandas as pd"
   ]
  },
  {
   "cell_type": "code",
   "execution_count": 6,
   "metadata": {},
   "outputs": [],
   "source": [
    "with open(r\"F:\\Packages\\jaal\\jaal\\datasets\\got\\characters-gender-all.json\", 'rb') as f:\n",
    "    character = json.load(f)\n",
    "df = pd.read_csv(r\"F:\\Packages\\jaal\\jaal\\datasets\\got\\got_book1_edge_df.csv\")\n",
    "df = df.loc[df['weight']>10, :]"
   ]
  },
  {
   "cell_type": "code",
   "execution_count": 7,
   "metadata": {},
   "outputs": [],
   "source": [
    "node_list = list(set(df['source'].unique().tolist() + df['target'].unique().tolist()))"
   ]
  },
  {
   "cell_type": "code",
   "execution_count": 8,
   "metadata": {},
   "outputs": [
    {
     "output_type": "execute_result",
     "data": {
      "text/plain": [
       "80"
      ]
     },
     "metadata": {},
     "execution_count": 8
    }
   ],
   "source": [
    "len(node_list)"
   ]
  },
  {
   "cell_type": "code",
   "execution_count": 9,
   "metadata": {},
   "outputs": [],
   "source": [
    "# character['male']\n",
    "# node_list\n",
    "node_df = pd.DataFrame({'name': node_list})"
   ]
  },
  {
   "cell_type": "code",
   "execution_count": 10,
   "metadata": {},
   "outputs": [],
   "source": [
    "characs = []\n",
    "for key in character.keys():\n",
    "    for x in character[key]:\n",
    "       characs.append({'name': x.replace(\" \", \"-\"), 'gender': key}) \n",
    "characs = pd.DataFrame(characs)"
   ]
  },
  {
   "cell_type": "code",
   "execution_count": 11,
   "metadata": {},
   "outputs": [],
   "source": [
    "# merge charac and \n",
    "merged_data = pd.merge(node_df, characs, on='name', how='left')"
   ]
  },
  {
   "cell_type": "code",
   "execution_count": 27,
   "metadata": {},
   "outputs": [],
   "source": [
    "# merged_data.to_csv(\"../datasets/got/got_node_df.csv\", index=False)\n",
    "df.loc[:, 'strength'] = 'high'\n",
    "df.loc[df['weight']<50, 'strength'] = 'medium'\n",
    "df.to_csv(\"got_edge_df.csv\", index=False)"
   ]
  },
  {
   "cell_type": "code",
   "execution_count": 57,
   "metadata": {},
   "outputs": [
    {
     "output_type": "execute_result",
     "data": {
      "text/plain": [
       "0     -1\n",
       "1     -1\n",
       "2     -1\n",
       "3     -1\n",
       "4     -1\n",
       "      ..\n",
       "567   -1\n",
       "568   -1\n",
       "569   -1\n",
       "570   -1\n",
       "571   -1\n",
       "Name: name, Length: 572, dtype: int64"
      ]
     },
     "metadata": {},
     "execution_count": 57
    }
   ],
   "source": [
    "characs['name'].str.find('Brandon')"
   ]
  },
  {
   "cell_type": "code",
   "execution_count": null,
   "metadata": {},
   "outputs": [],
   "source": []
  },
  {
   "cell_type": "code",
   "execution_count": 2,
   "metadata": {},
   "outputs": [
    {
     "output_type": "execute_result",
     "data": {
      "text/plain": [
       "{'a': 3, 'b': 1, 'c': 5}"
      ]
     },
     "metadata": {},
     "execution_count": 2
    }
   ],
   "source": [
    "x={'a':2, 'b':1}\n",
    "y={'a':3, 'c':5}\n",
    "{**x, **y}"
   ]
  },
  {
   "cell_type": "code",
   "execution_count": 22,
   "metadata": {},
   "outputs": [
    {
     "output_type": "execute_result",
     "data": {
      "text/plain": [
       "['name', 'gender']"
      ]
     },
     "metadata": {},
     "execution_count": 22
    }
   ],
   "source": [
    "merged_data.columns[merged_data.dtypes == 'object'].tolist()"
   ]
  },
  {
   "cell_type": "code",
   "execution_count": 23,
   "metadata": {},
   "outputs": [
    {
     "output_type": "error",
     "ename": "TypeError",
     "evalue": "unsupported operand type(s) for -: 'list' and 'list'",
     "traceback": [
      "\u001b[1;31m---------------------------------------------------------------------------\u001b[0m",
      "\u001b[1;31mTypeError\u001b[0m                                 Traceback (most recent call last)",
      "\u001b[1;32m<ipython-input-23-eff9b7fe4768>\u001b[0m in \u001b[0;36m<module>\u001b[1;34m\u001b[0m\n\u001b[1;32m----> 1\u001b[1;33m \u001b[1;33m[\u001b[0m\u001b[1;36m1\u001b[0m\u001b[1;33m,\u001b[0m\u001b[1;36m2\u001b[0m\u001b[1;33m,\u001b[0m\u001b[1;36m3\u001b[0m\u001b[1;33m]\u001b[0m \u001b[1;33m-\u001b[0m \u001b[1;33m[\u001b[0m\u001b[1;36m2\u001b[0m\u001b[1;33m,\u001b[0m\u001b[1;36m3\u001b[0m\u001b[1;33m]\u001b[0m\u001b[1;33m\u001b[0m\u001b[1;33m\u001b[0m\u001b[0m\n\u001b[0m",
      "\u001b[1;31mTypeError\u001b[0m: unsupported operand type(s) for -: 'list' and 'list'"
     ]
    }
   ],
   "source": [
    "[1,2,3] - [2,3]"
   ]
  },
  {
   "cell_type": "code",
   "execution_count": 24,
   "metadata": {},
   "outputs": [
    {
     "output_type": "execute_result",
     "data": {
      "text/plain": [
       "                              source              target  weight\n",
       "8    Aemon-Targaryen-(Maester-Aemon)        Jeor-Mormont      13\n",
       "9    Aemon-Targaryen-(Maester-Aemon)            Jon-Snow      34\n",
       "16                Aerys-II-Targaryen    Robert-Baratheon      12\n",
       "17                              Aggo  Daenerys-Targaryen      11\n",
       "30                    Alliser-Thorne            Jon-Snow      32\n",
       "..                               ...                 ...     ...\n",
       "658                   Sandor-Clegane         Sansa-Stark      23\n",
       "664                             Shae    Tyrion-Lannister      12\n",
       "666                           Shagga    Tyrion-Lannister      17\n",
       "676                 Tyrion-Lannister     Tywin-Lannister      40\n",
       "683                     Waymar-Royce     Will-(prologue)      18\n",
       "\n",
       "[175 rows x 3 columns]"
      ],
      "text/html": "<div>\n<style scoped>\n    .dataframe tbody tr th:only-of-type {\n        vertical-align: middle;\n    }\n\n    .dataframe tbody tr th {\n        vertical-align: top;\n    }\n\n    .dataframe thead th {\n        text-align: right;\n    }\n</style>\n<table border=\"1\" class=\"dataframe\">\n  <thead>\n    <tr style=\"text-align: right;\">\n      <th></th>\n      <th>source</th>\n      <th>target</th>\n      <th>weight</th>\n    </tr>\n  </thead>\n  <tbody>\n    <tr>\n      <th>8</th>\n      <td>Aemon-Targaryen-(Maester-Aemon)</td>\n      <td>Jeor-Mormont</td>\n      <td>13</td>\n    </tr>\n    <tr>\n      <th>9</th>\n      <td>Aemon-Targaryen-(Maester-Aemon)</td>\n      <td>Jon-Snow</td>\n      <td>34</td>\n    </tr>\n    <tr>\n      <th>16</th>\n      <td>Aerys-II-Targaryen</td>\n      <td>Robert-Baratheon</td>\n      <td>12</td>\n    </tr>\n    <tr>\n      <th>17</th>\n      <td>Aggo</td>\n      <td>Daenerys-Targaryen</td>\n      <td>11</td>\n    </tr>\n    <tr>\n      <th>30</th>\n      <td>Alliser-Thorne</td>\n      <td>Jon-Snow</td>\n      <td>32</td>\n    </tr>\n    <tr>\n      <th>...</th>\n      <td>...</td>\n      <td>...</td>\n      <td>...</td>\n    </tr>\n    <tr>\n      <th>658</th>\n      <td>Sandor-Clegane</td>\n      <td>Sansa-Stark</td>\n      <td>23</td>\n    </tr>\n    <tr>\n      <th>664</th>\n      <td>Shae</td>\n      <td>Tyrion-Lannister</td>\n      <td>12</td>\n    </tr>\n    <tr>\n      <th>666</th>\n      <td>Shagga</td>\n      <td>Tyrion-Lannister</td>\n      <td>17</td>\n    </tr>\n    <tr>\n      <th>676</th>\n      <td>Tyrion-Lannister</td>\n      <td>Tywin-Lannister</td>\n      <td>40</td>\n    </tr>\n    <tr>\n      <th>683</th>\n      <td>Waymar-Royce</td>\n      <td>Will-(prologue)</td>\n      <td>18</td>\n    </tr>\n  </tbody>\n</table>\n<p>175 rows × 3 columns</p>\n</div>"
     },
     "metadata": {},
     "execution_count": 24
    }
   ],
   "source": []
  },
  {
   "cell_type": "code",
   "execution_count": null,
   "metadata": {},
   "outputs": [],
   "source": []
  }
 ]
}